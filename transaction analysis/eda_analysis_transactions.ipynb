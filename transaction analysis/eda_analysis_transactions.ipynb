{
 "cells": [
  {
   "cell_type": "code",
   "execution_count": 1,
   "id": "dd41906a",
   "metadata": {},
   "outputs": [
    {
     "name": "stdout",
     "output_type": "stream",
     "text": [
      "Requirement already satisfied: pyarrow in c:\\programdata\\anaconda3\\lib\\site-packages (21.0.0)\n"
     ]
    }
   ],
   "source": [
    "!pip install pyarrow"
   ]
  },
  {
   "cell_type": "code",
   "execution_count": 2,
   "id": "41c7e9d6",
   "metadata": {},
   "outputs": [
    {
     "name": "stdout",
     "output_type": "stream",
     "text": [
      "Requirement already satisfied: requests in c:\\programdata\\anaconda3\\lib\\site-packages (2.32.4)\n",
      "Requirement already satisfied: urllib3 in c:\\programdata\\anaconda3\\lib\\site-packages (2.5.0)\n",
      "Requirement already satisfied: certifi in c:\\programdata\\anaconda3\\lib\\site-packages (2025.8.3)\n",
      "Requirement already satisfied: charset_normalizer<4,>=2 in c:\\programdata\\anaconda3\\lib\\site-packages (from requests) (2.0.4)\n",
      "Requirement already satisfied: idna<4,>=2.5 in c:\\programdata\\anaconda3\\lib\\site-packages (from requests) (3.3)\n",
      "Note: you may need to restart the kernel to use updated packages.\n"
     ]
    }
   ],
   "source": [
    "pip install --upgrade requests urllib3 certifi"
   ]
  },
  {
   "cell_type": "code",
   "execution_count": 3,
   "id": "eeb62b42",
   "metadata": {},
   "outputs": [],
   "source": [
    "import pandas as pd\n",
    "import dask.dataframe as dd\n",
    "import matplotlib.pyplot as plt\n",
    "import seaborn as sns"
   ]
  },
  {
   "cell_type": "code",
   "execution_count": 4,
   "id": "34bf2364",
   "metadata": {},
   "outputs": [],
   "source": [
    "# загружаю набор данных с историческим курсом валют\n",
    "\n",
    "df1 = pd.read_parquet(r'C:\\Users\\Алексей\\Downloads\\historical_currency_exchange.parquet')"
   ]
  },
  {
   "cell_type": "code",
   "execution_count": 6,
   "id": "ae57e060",
   "metadata": {},
   "outputs": [],
   "source": [
    "# загружаю набор данных с финансовыми транзакциями\n",
    "\n",
    "df2 = pd.read_parquet(r'C:\\Users\\Алексей\\Downloads\\transaction_fraud_data.parquet')"
   ]
  },
  {
   "cell_type": "code",
   "execution_count": 10,
   "id": "59dbc7e5",
   "metadata": {},
   "outputs": [
    {
     "name": "stdout",
     "output_type": "stream",
     "text": [
      "Количество строк df1: 31\n",
      "Количество столбцов df1: 12\n",
      "Количество строк df2: 7483766\n",
      "Количество столбцов df2: 23\n"
     ]
    }
   ],
   "source": [
    "# получаю базовый обзор размера\n",
    "\n",
    "print(f\"Количество строк df1: {df1.shape[0]}\")\n",
    "print(f\"Количество столбцов df1: {len(df1.columns)}\")\n",
    "\n",
    "print(f\"Количество строк df2: {df2.shape[0]}\")\n",
    "print(f\"Количество столбцов df2: {len(df2.columns)}\")"
   ]
  },
  {
   "cell_type": "code",
   "execution_count": 12,
   "id": "70f44dd1",
   "metadata": {},
   "outputs": [],
   "source": [
    "# создаю случайную подвыборку, чтобы на ней понять структуру, распределение и аномалии в данных\n",
    "\n",
    "sample_df2 = df2.sample(frac=0.05, random_state=42) # 5% случайных строк"
   ]
  },
  {
   "cell_type": "code",
   "execution_count": 13,
   "id": "95d755a3",
   "metadata": {},
   "outputs": [
    {
     "name": "stdout",
     "output_type": "stream",
     "text": [
      "<class 'pandas.core.frame.DataFrame'>\n",
      "Int64Index: 374188 entries, 543612 to 7429067\n",
      "Data columns (total 23 columns):\n",
      " #   Column                   Non-Null Count   Dtype         \n",
      "---  ------                   --------------   -----         \n",
      " 0   transaction_id           374188 non-null  object        \n",
      " 1   customer_id              374188 non-null  object        \n",
      " 2   card_number              374188 non-null  int64         \n",
      " 3   timestamp                374188 non-null  datetime64[ns]\n",
      " 4   vendor_category          374188 non-null  object        \n",
      " 5   vendor_type              374188 non-null  object        \n",
      " 6   vendor                   374188 non-null  object        \n",
      " 7   amount                   374188 non-null  float64       \n",
      " 8   currency                 374188 non-null  object        \n",
      " 9   country                  374188 non-null  object        \n",
      " 10  city                     374188 non-null  object        \n",
      " 11  city_size                374188 non-null  object        \n",
      " 12  card_type                374188 non-null  object        \n",
      " 13  is_card_present          374188 non-null  bool          \n",
      " 14  device                   374188 non-null  object        \n",
      " 15  channel                  374188 non-null  object        \n",
      " 16  device_fingerprint       374188 non-null  object        \n",
      " 17  ip_address               374188 non-null  object        \n",
      " 18  is_outside_home_country  374188 non-null  bool          \n",
      " 19  is_high_risk_vendor      374188 non-null  bool          \n",
      " 20  is_weekend               374188 non-null  bool          \n",
      " 21  last_hour_activity       374188 non-null  object        \n",
      " 22  is_fraud                 374188 non-null  bool          \n",
      "dtypes: bool(5), datetime64[ns](1), float64(1), int64(1), object(15)\n",
      "memory usage: 56.0+ MB\n"
     ]
    }
   ],
   "source": [
    "# получаю информацию о подвыборке\n",
    "\n",
    "sample_df2.info()"
   ]
  },
  {
   "cell_type": "code",
   "execution_count": null,
   "id": "243ea004",
   "metadata": {},
   "outputs": [],
   "source": [
    "# описательная статистика для признаков\n",
    "\n",
    "sample_df2.describe(include='all')"
   ]
  },
  {
   "cell_type": "code",
   "execution_count": null,
   "id": "089b2c93",
   "metadata": {},
   "outputs": [],
   "source": [
    "# определяю кол-во мошенеческих транзакций\n",
    "\n",
    "fraud_counts = sample_df2['is_fraud'].value_counts()\n",
    "print(\"\\nРаспределение метки мошенничества:\")\n",
    "print(fraud_counts)"
   ]
  },
  {
   "cell_type": "code",
   "execution_count": null,
   "id": "9bdf8ca8",
   "metadata": {},
   "outputs": [],
   "source": [
    "# вывожу топ-10 самых частотных значений для каждой из категорий — vendor_category, card_type, country\n",
    "\n",
    "for col in ['vendor_category', 'card_type', 'country']:\n",
    "    print(f\"\\nТоп-10 значений для {col}:\")\n",
    "    vc = sample_df2[col].value_counts().head(10)\n",
    "    print(vc)\n",
    "    plt.figure(figsize=(10,4))\n",
    "    sns.barplot(x=vc.index, y=vc.values)\n",
    "    plt.title(f'Топ-10 значений в {col}')\n",
    "    plt.xticks(rotation=45)\n",
    "    plt.show()"
   ]
  },
  {
   "cell_type": "code",
   "execution_count": null,
   "id": "eff7fbb4",
   "metadata": {},
   "outputs": [],
   "source": [
    "# провожу временной анализ — количество транзакций по дате/часу\n",
    "sample_df2['transaction_hour'] = sample_df2['timestamp'].dt.hour\n",
    "hourly_counts = sample_df2.groupby('transaction_hour').size()\n",
    "\n",
    "plt.figure(figsize=(10,4))\n",
    "sns.barplot(x=hourly_counts.index, y=hourly_counts.values)\n",
    "plt.title('Количество транзакций по часам суток')\n",
    "plt.xlabel('Час')\n",
    "plt.ylabel('Количество транзакций')\n",
    "plt.show()"
   ]
  },
  {
   "cell_type": "code",
   "execution_count": null,
   "id": "d2f499ca",
   "metadata": {},
   "outputs": [],
   "source": [
    "# провожу анализ суммы транзакций — распределение и выбросы (на выборке)\n",
    "plt.figure(figsize=(10,5))\n",
    "sns.histplot(sample_df2['amount'], bins=50, kde=True)\n",
    "plt.title('Распределение суммы транзакций (выборка)')\n",
    "plt.xlabel('Сумма транзакции')\n",
    "plt.ylabel('Количество')\n",
    "plt.show()"
   ]
  },
  {
   "cell_type": "code",
   "execution_count": null,
   "id": "5eb8b58a",
   "metadata": {},
   "outputs": [],
   "source": [
    "# проверяю гипотезу 1 -- несоответствие валют\n",
    "\n",
    "# для каждой страны нахожу самую частую валюту\n",
    "home_currency_map = (\n",
    "    sample_df2.groupby('country')['currency']\n",
    "    .agg(lambda x: x.value_counts().index[0])  # мода\n",
    "    .to_dict()\n",
    ")\n",
    "\n",
    "# добавляю колонку с \"домашней\" валютой\n",
    "sample_df2['home_currency'] = sample_df2['country'].map(home_currency_map)\n",
    "\n",
    "# признак несоотвествия валют\n",
    "sample_df2['currency_mismatch'] = sample_df2['currency'] != sample_df2['home_currency']\n",
    "\n",
    "# доля fraud при совпадении и несовпадении валют\n",
    "hyp1 = sample_d2f.groupby('currency_mismatch')['is_fraud'].mean()\n",
    "print(\"\\n1. Доля fraud при несовпадении валют:\")\n",
    "print(hyp1)\n"
   ]
  },
  {
   "cell_type": "code",
   "execution_count": null,
   "id": "34920b28",
   "metadata": {},
   "outputs": [],
   "source": [
    "# проверяю гипотезу 2 -- мошенники чаще используют веб-канал, чем мобильный \n",
    "hyp2 = sample_d2f.groupby('channel')['is_fraud'].mean()\n",
    "print(\"\\n2. Доля fraud по каналам:\")\n",
    "print(hyp2)"
   ]
  },
  {
   "cell_type": "code",
   "execution_count": null,
   "id": "b5762e05",
   "metadata": {},
   "outputs": [],
   "source": [
    "# проверяю гипотезу 3 -- Fraud чаще происходит при транзакциях вне страны клиента \n",
    "hyp3 = sample_d2f.groupby('is_outside_home_country')['is_fraud'].mean()\n",
    "print(\"\\n3. Доля fraud при транзакциях вне страны клиента:\")\n",
    "print(hyp3)"
   ]
  },
  {
   "cell_type": "code",
   "execution_count": null,
   "id": "d998f430",
   "metadata": {},
   "outputs": [],
   "source": [
    "# проверяю гипотезу 4 -- В выходные доля fraud выше, чем в будни \n",
    "hyp4 = sample_df2.groupby('is_weekend')['is_fraud'].mean()\n",
    "print(\"\\n4. Доля fraud в выходные и будни:\")\n",
    "print(hyp4)"
   ]
  },
  {
   "cell_type": "code",
   "execution_count": null,
   "id": "5cafab73",
   "metadata": {},
   "outputs": [],
   "source": [
    "# проверяю гипотезу 5 -- Оплата у high-risk вендоров даёт в N раз выше шанс fraud \n",
    "hyp5 = sample_df2.groupby('is_high_risk_vendor')['is_fraud'].mean()\n",
    "print(\"\\n5. Доля fraud у high-risk и обычных вендоров:\")\n",
    "print(hyp5)\n",
    "\n",
    "# Вычисляем отношение вероятностей fraud (во сколько раз выше)\n",
    "ratio = hyp5[True] / hyp5[False]\n",
    "print(f\"\\nВо сколько раз шанс fraud выше у high-risk вендоров: {ratio:.2f}x\")"
   ]
  },
  {
   "cell_type": "code",
   "execution_count": null,
   "id": "f23cd591",
   "metadata": {},
   "outputs": [],
   "source": []
  }
 ],
 "metadata": {
  "kernelspec": {
   "display_name": "Python 3 (ipykernel)",
   "language": "python",
   "name": "python3"
  },
  "language_info": {
   "codemirror_mode": {
    "name": "ipython",
    "version": 3
   },
   "file_extension": ".py",
   "mimetype": "text/x-python",
   "name": "python",
   "nbconvert_exporter": "python",
   "pygments_lexer": "ipython3",
   "version": "3.9.12"
  }
 },
 "nbformat": 4,
 "nbformat_minor": 5
}
